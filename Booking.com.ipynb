{
 "cells": [
  {
   "cell_type": "code",
   "execution_count": 10,
   "id": "19b90943-a915-40a2-88ba-f32a75fa97ed",
   "metadata": {},
   "outputs": [
    {
     "name": "stdin",
     "output_type": "stream",
     "text": [
      "Please enter the URL:  https://www.booking.com/searchresults.html?ss=bhopal+hotel&ssne=Mumbai&ssne_untouched=Mumbai&efdco=1&label=gen173nr-1FCAEoggI46AdIM1gEaGyIAQGYATG4ARfIAQzYAQHoAQH4AQKIAgGoAgO4AuOMw8EGwAIB0gIkNWY4NGIwZDctNDVhYi00NmNkLTgyNzctNjNkMmU0MzY4NDYx2AIF4AIB&sid=63af43531e4bc25fec86711389d3bb79&aid=304142&lang=en-us&sb=1&src_elem=sb&src=index&dest_id=8338815&dest_type=hotel&ac_position=0&ac_click_type=b&ac_langcode=en&ac_suggestion_list_length=5&search_selected=true&search_pageview_id=0ef98642f96f044b&ac_meta=GhAwZWY5ODY0MmY5NmYwNDRiIAAoATICZW46CmJob3BhbCBob3RAAEoAUAA%3D&checkin=2025-05-29&checkout=2025-05-30&group_adults=2&no_rooms=1&group_children=0\n",
      "Please give the file name (without extension):  bhopal\n"
     ]
    },
    {
     "name": "stdout",
     "output_type": "stream",
     "text": [
      "Thank you for sharing the URL and file name!\n",
      "⏳\n",
      "Reading the content!\n",
      "Connected to Website\n",
      "Web scraping done. Data saved to: bhopal.csv\n"
     ]
    }
   ],
   "source": [
    "import requests\n",
    "from bs4 import BeautifulSoup\n",
    "import csv\n",
    "import time\n",
    "import random\n",
    "\n",
    "def web_scrapper2(web_url, f_name):\n",
    "    # Greetings\n",
    "    print(\"Thank you for sharing the URL and file name!\\n⏳\\nReading the content!\")\n",
    "\n",
    "    num = random.randint(3, 7)\n",
    "    time.sleep(num)  # Simulate processing\n",
    "\n",
    "    headers = {\n",
    "        \"User-Agent\": \"Mozilla/5.0 (Windows NT 10.0; Win64; x64) AppleWebKit/537.36 (KHTML, like Gecko) Chrome/136.0.0.0 Safari/537.36\"\n",
    "    }\n",
    "\n",
    "    response = requests.get(web_url, headers=headers)\n",
    "\n",
    "    if response.status_code == 200:\n",
    "        print(\"Connected to Website\")\n",
    "        html_content = response.text\n",
    "    else:\n",
    "        print(f\"Connection failed! Status code: {response.status_code}\")\n",
    "        return\n",
    "\n",
    "    soup = BeautifulSoup(html_content, 'lxml')\n",
    "    hotel_divs = soup.find_all('div', role=\"listitem\")\n",
    "\n",
    "    with open(f\"{f_name}.csv\", \"w\", encoding=\"utf-8\", newline='') as file_csv:\n",
    "        writer = csv.writer(file_csv)\n",
    "        writer.writerow([\"hotel_name\", \"location\", \"price\", \"rating\", \"score\", \"reviews\", \"link\"])\n",
    "\n",
    "        for hotel in hotel_divs:\n",
    "            try:\n",
    "                hotel_name = hotel.find('div', class_=\"b87c397a13 a3e0b4ffd1\")\n",
    "                hotel_name = hotel_name.text.strip() if hotel_name else \"NA\"\n",
    "\n",
    "                location = hotel.find('span', class_=\"d823fbbeed f9b3563dd4\")\n",
    "                location = location.text.strip() if location else \"NA\"\n",
    "\n",
    "                price = hotel.find('span', class_=\"b87c397a13 f2f358d1de ab607752a2\")\n",
    "                price = price.text.strip() if price else \"NA\"\n",
    "\n",
    "                rating = hotel.find('div', class_=\"f63b14ab7a f546354b44 becbee2f63\")\n",
    "                rating = rating.text.strip() if rating else \"NA\"\n",
    "\n",
    "                score = hotel.find('div', class_=\"f63b14ab7a dff2e52086\")\n",
    "                score = score.text.strip() if score else \"NA\"\n",
    "\n",
    "                reviews = hotel.find('div', class_=\"fff1944c52 fb14de7f14 eaa8455879\")\n",
    "                reviews = reviews.text.strip().split(' ')[0] if reviews else \"NA\"\n",
    "\n",
    "                link_tag = hotel.find('a', href=True)\n",
    "                link = link_tag['href'] if link_tag else \"NA\"\n",
    "\n",
    "                writer.writerow([hotel_name, location, price, rating, score, reviews, link])\n",
    "            except Exception as e:\n",
    "                print(\"Error extracting a hotel:\", e)\n",
    "                continue\n",
    "\n",
    "    print(\"Web scraping done. Data saved to:\", f\"{f_name}.csv\")\n",
    "\n",
    "\n",
    "# If using this script directly, the below task will be executed\n",
    "\n",
    "    url = input(\"Please enter the URL: \")\n",
    "    f_name = input(\"Please give the file name (without extension): \")\n",
    "    web_scrapper2(url, f_name)\n"
   ]
  },
  {
   "cell_type": "code",
   "execution_count": 4,
   "id": "0598d233-ce9e-46cd-8793-0a2113ccf5f1",
   "metadata": {},
   "outputs": [
    {
     "ename": "_IncompleteInputError",
     "evalue": "incomplete input (1395342149.py, line 1)",
     "output_type": "error",
     "traceback": [
      "  \u001b[36mCell\u001b[39m\u001b[36m \u001b[39m\u001b[32mIn[4]\u001b[39m\u001b[32m, line 1\u001b[39m\n\u001b[31m    \u001b[39m\u001b[31mif __name__ == '__main__':\u001b[39m\n                              ^\n\u001b[31m_IncompleteInputError\u001b[39m\u001b[31m:\u001b[39m incomplete input\n"
     ]
    }
   ],
   "source": []
  },
  {
   "cell_type": "code",
   "execution_count": null,
   "id": "354c3488-767a-4b32-b371-b9eddbaf202e",
   "metadata": {},
   "outputs": [],
   "source": [
    "if __name__ == '__main__':\n"
   ]
  },
  {
   "cell_type": "code",
   "execution_count": null,
   "id": "51296972-53f7-4938-b430-66f528df505c",
   "metadata": {},
   "outputs": [],
   "source": []
  }
 ],
 "metadata": {
  "kernelspec": {
   "display_name": "Python 3 (ipykernel)",
   "language": "python",
   "name": "python3"
  },
  "language_info": {
   "codemirror_mode": {
    "name": "ipython",
    "version": 3
   },
   "file_extension": ".py",
   "mimetype": "text/x-python",
   "name": "python",
   "nbconvert_exporter": "python",
   "pygments_lexer": "ipython3",
   "version": "3.13.2"
  }
 },
 "nbformat": 4,
 "nbformat_minor": 5
}
